{
  "cells": [
    {
      "cell_type": "markdown",
      "metadata": {
        "id": "wcJZYjYpctal"
      },
      "source": [
        "## Group ID\n",
        "ADL Group 75\n",
        "\n",
        "\n",
        "## Group Members\n",
        "1. Ravindra Kumar Tholiya - 2023AA05124\n",
        "2. Jahnavi Gali - 2023AA05684\n",
        "3. Shivam Sahil - 2023AA05663\n",
        "4. Chakshu - 2023aa05280"
      ]
    },
    {
      "cell_type": "markdown",
      "metadata": {
        "id": "sWNySZBKcwPl"
      },
      "source": [
        "# Task 1: Implement and train a conditional Wesserstein GAN with CIFAR10 dataset. Generate and display 10 new images belonging to 'automobile' class. Report IS and FID scores.\n",
        "\n"
      ]
    },
    {
      "cell_type": "code",
      "execution_count": 6,
      "metadata": {
        "id": "zGef-t5hcXEP"
      },
      "outputs": [],
      "source": [
        "# Necessary Imports\n",
        "import os\n",
        "import numpy as np\n",
        "import matplotlib.pyplot as plt\n",
        "from tqdm import tqdm\n",
        "\n",
        "import torch\n",
        "import torch.nn as nn\n",
        "import torch.optim as optim\n",
        "import torch.autograd as autograd\n",
        "from torch.utils.data import DataLoader\n",
        "import torchvision\n",
        "import torchvision.transforms as transforms\n",
        "from tqdm import tqdm"
      ]
    },
    {
      "cell_type": "code",
      "execution_count": 7,
      "metadata": {
        "id": "TcoQML1cc_TN"
      },
      "outputs": [],
      "source": [
        "!pip install torchmetrics\n",
        "!pip install torch-fidelity\n",
        "!pip install torchmetrics[image]"
      ]
    },
    {
      "cell_type": "code",
      "execution_count": 8,
      "metadata": {
        "id": "vx2g2li7l5YM"
      },
      "outputs": [],
      "source": [
        "from torchmetrics.image.inception import InceptionScore\n",
        "from torchmetrics.image.fid import FrechetInceptionDistance"
      ]
    },
    {
      "cell_type": "code",
      "execution_count": 9,
      "metadata": {
        "id": "xoOcI1Q4diRn",
        "colab": {
          "base_uri": "https://localhost:8080/"
        },
        "outputId": "593bcd20-b36b-4010-d314-c19811758b20"
      },
      "outputs": [
        {
          "output_type": "stream",
          "name": "stdout",
          "text": [
            "Using device: cpu\n"
          ]
        }
      ],
      "source": [
        "device = torch.device(\"cuda\" if torch.cuda.is_available() else \"cpu\")\n",
        "print(\"Using device:\", device)"
      ]
    },
    {
      "cell_type": "code",
      "execution_count": 10,
      "metadata": {
        "colab": {
          "base_uri": "https://localhost:8080/"
        },
        "id": "uLE-vHG7ghAv",
        "outputId": "db66ff78-a567-46df-8323-2e696afeb5ef"
      },
      "outputs": [
        {
          "output_type": "stream",
          "name": "stdout",
          "text": [
            "Mounted at /content/drive\n"
          ]
        }
      ],
      "source": [
        "from google.colab import drive\n",
        "drive.mount('/content/drive', force_remount=True)"
      ]
    },
    {
      "cell_type": "code",
      "execution_count": 30,
      "metadata": {
        "id": "4ijArc7bdlfM"
      },
      "outputs": [],
      "source": [
        "# Hyperparameters\n",
        "batch_size = 64\n",
        "image_size = 32\n",
        "channels = 3\n",
        "num_classes = 10\n",
        "latent_dim = 100\n",
        "embedding_dim = 50\n",
        "num_epochs = 1000\n",
        "lr = 1e-4\n",
        "beta1 = 0.0\n",
        "beta2 = 0.9\n",
        "lambda_gp = 10    # Gradient penalty lambda\n",
        "n_critic = 5      # Number of critic iterations per generator iteration"
      ]
    },
    {
      "cell_type": "code",
      "execution_count": 31,
      "metadata": {
        "id": "v00midj-dvgT"
      },
      "outputs": [],
      "source": [
        "# Data loading and preprocessing: Normalize images to [-1, 1] (to match tanh output)\n",
        "transform = transforms.Compose([\n",
        "    transforms.Resize(image_size),\n",
        "    transforms.ToTensor(),\n",
        "    transforms.Normalize([0.5]*3, [0.5]*3)\n",
        "])"
      ]
    },
    {
      "cell_type": "code",
      "execution_count": 32,
      "metadata": {
        "colab": {
          "base_uri": "https://localhost:8080/"
        },
        "id": "l3_u6i8kdz-U",
        "outputId": "96b75f9a-04d9-4aaf-fda7-c01c691d5a4c"
      },
      "outputs": [
        {
          "output_type": "stream",
          "name": "stdout",
          "text": [
            "Files already downloaded and verified\n"
          ]
        }
      ],
      "source": [
        "train_dataset = torchvision.datasets.CIFAR10(root='./data', train=True, download=True, transform=transform)\n",
        "train_loader = DataLoader(train_dataset, batch_size=batch_size, shuffle=True, num_workers=2)"
      ]
    },
    {
      "cell_type": "code",
      "execution_count": 33,
      "metadata": {
        "id": "E-lAmvt9d6Ee"
      },
      "outputs": [],
      "source": [
        "# Define the Generator network\n",
        "class Generator(nn.Module):\n",
        "    def __init__(self, latent_dim, num_classes, embedding_dim, channels=3, feature_map_size=64):\n",
        "        super(Generator, self).__init__()\n",
        "        self.label_emb = nn.Embedding(num_classes, embedding_dim)\n",
        "        self.init_size = image_size // 4  # initial size before upsampling (e.g., 8 for 32x32)\n",
        "        self.l1 = nn.Sequential(nn.Linear(latent_dim + embedding_dim, feature_map_size * 2 * self.init_size ** 2))\n",
        "\n",
        "        self.conv_blocks = nn.Sequential(\n",
        "            nn.BatchNorm2d(feature_map_size * 2),\n",
        "            nn.Upsample(scale_factor=2),\n",
        "            nn.Conv2d(feature_map_size * 2, feature_map_size, kernel_size=3, stride=1, padding=1),\n",
        "            nn.BatchNorm2d(feature_map_size, 0.8),\n",
        "            nn.ReLU(inplace=True),\n",
        "            nn.Upsample(scale_factor=2),\n",
        "            nn.Conv2d(feature_map_size, channels, kernel_size=3, stride=1, padding=1),\n",
        "            nn.Tanh()\n",
        "        )\n",
        "\n",
        "    def forward(self, noise, labels):\n",
        "        # Embed labels and concatenate with noise\n",
        "        label_embedding = self.label_emb(labels)\n",
        "        gen_input = torch.cat((noise, label_embedding), -1)\n",
        "        out = self.l1(gen_input)\n",
        "        out = out.view(out.shape[0], -1, self.init_size, self.init_size)\n",
        "        img = self.conv_blocks(out)\n",
        "        return img\n"
      ]
    },
    {
      "cell_type": "code",
      "execution_count": 34,
      "metadata": {
        "id": "uz9HGJXYd_Z-"
      },
      "outputs": [],
      "source": [
        "# Define the Discriminator (Critic) network\n",
        "class Discriminator(nn.Module):\n",
        "    def __init__(self, num_classes, channels=3, embedding_dim=image_size*image_size):\n",
        "        super(Discriminator, self).__init__()\n",
        "        # We have embed the label into a \"image\" of shape (1, image_size, image_size)\n",
        "        self.label_emb = nn.Embedding(num_classes, embedding_dim)\n",
        "\n",
        "        def discriminator_block(in_filters, out_filters, bn=True, norm_shape=None):\n",
        "          block = [nn.Conv2d(in_filters, out_filters, kernel_size=3, stride=2, padding=1)]\n",
        "          if bn:\n",
        "              # If no norm_shape is provided, default to [out_filters, image_size // 2, image_size // 2]\n",
        "              if norm_shape is None:\n",
        "                  norm_shape = [out_filters, image_size // 2, image_size // 2]\n",
        "              block.append(nn.LayerNorm(norm_shape))\n",
        "          block.append(nn.LeakyReLU(0.2, inplace=True))\n",
        "          return block\n",
        "\n",
        "        self.model = nn.Sequential(\n",
        "            *discriminator_block(channels + 1, 64, bn=False),\n",
        "            *discriminator_block(64, 128, bn=True, norm_shape=[128, image_size // 4, image_size // 4]),\n",
        "            nn.Flatten(),\n",
        "            nn.Linear(128 * (image_size // 4) * (image_size // 4), 1)\n",
        "        )\n",
        "\n",
        "    def forward(self, img, labels):\n",
        "        # Embed labels and reshape to image size\n",
        "        batch_size = img.size(0)\n",
        "        label_embedding = self.label_emb(labels).view(batch_size, 1, image_size, image_size)\n",
        "        # Concatenate image and label embedding\n",
        "        d_in = torch.cat((img, label_embedding), 1)\n",
        "        validity = self.model(d_in)\n",
        "        return validity"
      ]
    },
    {
      "cell_type": "code",
      "execution_count": 35,
      "metadata": {
        "id": "a8TcLgSgeENG"
      },
      "outputs": [],
      "source": [
        "# Initialize generator and discriminator\n",
        "generator = Generator(latent_dim, num_classes, embedding_dim).to(device)\n",
        "discriminator = Discriminator(num_classes).to(device)"
      ]
    },
    {
      "cell_type": "code",
      "execution_count": 36,
      "metadata": {
        "id": "FcF_gPqueJbO"
      },
      "outputs": [],
      "source": [
        "# Optimizers\n",
        "optimizer_G = optim.Adam(generator.parameters(), lr=lr, betas=(beta1, beta2))\n",
        "optimizer_D = optim.Adam(discriminator.parameters(), lr=lr, betas=(beta1, beta2))"
      ]
    },
    {
      "cell_type": "code",
      "execution_count": 37,
      "metadata": {
        "id": "rDBg2gfDeK9D"
      },
      "outputs": [],
      "source": [
        "# Gradient penalty function for WGAN-GP\n",
        "def compute_gradient_penalty(D, real_samples, fake_samples, labels):\n",
        "    alpha = torch.rand(real_samples.size(0), 1, 1, 1, device=device)\n",
        "    interpolates = (alpha * real_samples + ((1 - alpha) * fake_samples)).requires_grad_(True)\n",
        "    d_interpolates = D(interpolates, labels)\n",
        "    fake = torch.ones(d_interpolates.size(), device=device)\n",
        "    gradients = autograd.grad(\n",
        "        outputs=d_interpolates,\n",
        "        inputs=interpolates,\n",
        "        grad_outputs=fake,\n",
        "        create_graph=True,\n",
        "        retain_graph=True,\n",
        "        only_inputs=True\n",
        "    )[0]\n",
        "    gradients = gradients.view(gradients.size(0), -1)\n",
        "    gradient_penalty = ((gradients.norm(2, dim=1) - 1) ** 2).mean()\n",
        "    return gradient_penalty"
      ]
    },
    {
      "cell_type": "code",
      "execution_count": 42,
      "metadata": {
        "colab": {
          "base_uri": "https://localhost:8080/"
        },
        "id": "fgvY1wGugIAn",
        "outputId": "baa18314-cefa-42f4-af39-8f4370a911c3"
      },
      "outputs": [
        {
          "output_type": "stream",
          "name": "stdout",
          "text": [
            "Loading checkpoint from drive/MyDrive/temp_db/2901/checkpoints/adl_assignment_2_checkpoint_epoch_990.pt\n",
            "Epoch identified: 1000\n"
          ]
        },
        {
          "output_type": "stream",
          "name": "stderr",
          "text": [
            "<ipython-input-42-2ce7d96f5f5d>:13: FutureWarning: You are using `torch.load` with `weights_only=False` (the current default value), which uses the default pickle module implicitly. It is possible to construct malicious pickle data which will execute arbitrary code during unpickling (See https://github.com/pytorch/pytorch/blob/main/SECURITY.md#untrusted-models for more details). In a future release, the default value for `weights_only` will be flipped to `True`. This limits the functions that could be executed during unpickling. Arbitrary objects will no longer be allowed to be loaded via this mode unless they are explicitly allowlisted by the user via `torch.serialization.add_safe_globals`. We recommend you start setting `weights_only=True` for any use case where you don't have full control of the loaded file. Please open an issue on GitHub for any issues related to this experimental feature.\n",
            "  checkpoint = torch.load(checkpoint_path, map_location=device)\n"
          ]
        }
      ],
      "source": [
        "# Checkpointing to re-utilise existing trained model\n",
        "G_losses = []\n",
        "D_losses = []\n",
        "checkpoint_dir = \"drive/MyDrive/temp_db/2901/checkpoints\"\n",
        "if not os.path.exists(checkpoint_dir):\n",
        "    os.makedirs(checkpoint_dir)\n",
        "\n",
        "checkpoint_files = [f for f in os.listdir(checkpoint_dir) if f.endswith('.pt') and \"adl_assignment_2\" in f]\n",
        "if checkpoint_files:\n",
        "    latest_checkpoint = sorted(checkpoint_files)[-1]\n",
        "    checkpoint_path = os.path.join(checkpoint_dir, latest_checkpoint)\n",
        "    print(f\"Loading checkpoint from {checkpoint_path}\")\n",
        "    checkpoint = torch.load(checkpoint_path, map_location=device)\n",
        "    generator.load_state_dict(checkpoint['generator_state_dict'])\n",
        "    discriminator.load_state_dict(checkpoint['discriminator_state_dict'])\n",
        "    optimizer_G.load_state_dict(checkpoint['optimizer_G_state_dict'])\n",
        "    optimizer_D.load_state_dict(checkpoint['optimizer_D_state_dict'])\n",
        "    start_epoch = checkpoint['epoch'] + 1\n",
        "    print(f'Epoch identified: {start_epoch}')\n",
        "    # Load loss history if available; otherwise, initialize as empty lists\n",
        "    G_losses = checkpoint.get('G_losses', [])\n",
        "    D_losses = checkpoint.get('D_losses', [])\n",
        "else:\n",
        "    print(\"No checkpoint found. Starting training from scratch.\")\n",
        "    start_epoch = 0\n",
        "    G_losses = []\n",
        "    D_losses = []\n"
      ]
    },
    {
      "cell_type": "code",
      "execution_count": 41,
      "metadata": {
        "colab": {
          "base_uri": "https://localhost:8080/"
        },
        "id": "qAclDJkzgd1u",
        "outputId": "e5603689-cc86-4119-d6b4-723633e8ef12"
      },
      "outputs": [
        {
          "output_type": "stream",
          "name": "stdout",
          "text": [
            "Starting Training from 1000 to 1000\n"
          ]
        }
      ],
      "source": [
        "print(f\"Starting Training from {start_epoch} to {num_epochs}\")\n",
        "for epoch in range(start_epoch, num_epochs):\n",
        "    epoch_g_loss = 0.0\n",
        "    epoch_d_loss = 0.0\n",
        "    num_batches = 0\n",
        "    progress_bar = tqdm(train_loader, desc=f\"Epoch {epoch+1}/{num_epochs}\", leave=False)\n",
        "\n",
        "    for i, (imgs, labels) in enumerate(progress_bar):\n",
        "        num_batches += 1\n",
        "        real_imgs = imgs.to(device)\n",
        "        labels = labels.to(device)\n",
        "\n",
        "        # --- Train Discriminator ---\n",
        "        optimizer_D.zero_grad()\n",
        "        noise = torch.randn(imgs.size(0), latent_dim, device=device)\n",
        "        gen_labels = torch.randint(0, num_classes, (imgs.size(0),), device=device)\n",
        "        fake_imgs = generator(noise, gen_labels)\n",
        "\n",
        "        real_validity = discriminator(real_imgs, labels)\n",
        "        fake_validity = discriminator(fake_imgs.detach(), gen_labels)\n",
        "        d_loss = -torch.mean(real_validity) + torch.mean(fake_validity)\n",
        "\n",
        "        gp = compute_gradient_penalty(discriminator, real_imgs.data, fake_imgs.data, labels)\n",
        "        d_loss_total = d_loss + lambda_gp * gp\n",
        "\n",
        "        d_loss_total.backward()\n",
        "        optimizer_D.step()\n",
        "\n",
        "        epoch_d_loss += d_loss_total.item()\n",
        "\n",
        "        # --- Train Generator every n_critic iterations ---\n",
        "        if i % n_critic == 0:\n",
        "            optimizer_G.zero_grad()\n",
        "            noise = torch.randn(imgs.size(0), latent_dim, device=device)\n",
        "            gen_labels = torch.randint(0, num_classes, (imgs.size(0),), device=device)\n",
        "            gen_imgs = generator(noise, gen_labels)\n",
        "\n",
        "            g_loss = -torch.mean(discriminator(gen_imgs, gen_labels))\n",
        "            g_loss.backward()\n",
        "            optimizer_G.step()\n",
        "\n",
        "            epoch_g_loss += g_loss.item()\n",
        "\n",
        "        progress_bar.set_postfix({\n",
        "            \"D_loss\": f\"{d_loss_total.item():.4f}\",\n",
        "            \"G_loss\": f\"{g_loss.item():.4f}\" if i % n_critic == 0 else \"N/A\"\n",
        "        })\n",
        "\n",
        "    # Append the average loss per epoch\n",
        "    G_losses.append(epoch_g_loss / (num_batches / n_critic))  # average over generator updates\n",
        "    D_losses.append(epoch_d_loss / num_batches)\n",
        "\n",
        "    # Save checkpoint code here (if needed)\n",
        "    checkpoint = {\n",
        "    'epoch': epoch,\n",
        "    'generator_state_dict': generator.state_dict(),\n",
        "    'discriminator_state_dict': discriminator.state_dict(),\n",
        "    'optimizer_G_state_dict': optimizer_G.state_dict(),\n",
        "    'optimizer_D_state_dict': optimizer_D.state_dict(),\n",
        "    'G_losses': G_losses,\n",
        "    'D_losses': D_losses\n",
        "    }\n",
        "    checkpoint_path = os.path.join(checkpoint_dir, f'adl_assignment_2_checkpoint_epoch_{epoch}.pt')\n",
        "    torch.save(checkpoint, checkpoint_path)\n",
        "    print(f\"Checkpoint saved at {checkpoint_path}\")\n",
        "    print(f\"Epoch [{epoch+1}/{num_epochs}]  Avg Loss D: {D_losses[-1]:.4f}, Avg Loss G: {G_losses[-1]:.4f}\")\n"
      ]
    },
    {
      "cell_type": "code",
      "execution_count": 43,
      "metadata": {
        "colab": {
          "base_uri": "https://localhost:8080/",
          "height": 487
        },
        "id": "0R0cI8tHiRpN",
        "outputId": "43c9d5b4-e922-421d-b031-5223e7fd7505"
      },
      "outputs": [
        {
          "output_type": "display_data",
          "data": {
            "text/plain": [
              "<Figure size 1000x500 with 1 Axes>"
            ],
            "image/png": "[encoded data removed]"
          },
          "metadata": {}
        }
      ],
      "source": [
        "# Plot training losses\n",
        "plt.figure(figsize=(10,5))\n",
        "plt.plot(G_losses, label=\"Generator Loss\")\n",
        "plt.plot(D_losses, label=\"Discriminator Loss\")\n",
        "plt.xlabel(\"Iterations\")\n",
        "plt.ylabel(\"Loss\")\n",
        "plt.legend()\n",
        "plt.title(\"Training Losses\")\n",
        "plt.show()"
      ]
    },
    {
      "cell_type": "code",
      "execution_count": 22,
      "metadata": {
        "colab": {
          "base_uri": "https://localhost:8080/",
          "height": 183
        },
        "id": "VW1xvu3Pk23T",
        "outputId": "1ecdd0a5-c395-460a-9ece-ffbdf28593a4"
      },
      "outputs": [
        {
          "output_type": "display_data",
          "data": {
            "text/plain": [
              "<Figure size 1500x200 with 10 Axes>"
            ],
            "image/png": "[encoded data removed]"
          },
          "metadata": {}
        }
      ],
      "source": [
        "# %%\n",
        "# Generate and display 10 images for the 'automobile' class\n",
        "# In CIFAR10, the 'automobile' class has label 1.\n",
        "generator.eval()\n",
        "n_samples = 10\n",
        "with torch.no_grad():\n",
        "    noise = torch.randn(n_samples, latent_dim, device=device)\n",
        "    labels = torch.full((n_samples,), 1, dtype=torch.long, device=device)  # label 1 for automobile\n",
        "    gen_imgs = generator(noise, labels)\n",
        "    # Denormalize images from [-1,1] to [0,1]\n",
        "    gen_imgs = (gen_imgs + 1) / 2.0\n",
        "\n",
        "# Plot the images\n",
        "fig, axs = plt.subplots(1, n_samples, figsize=(15,2))\n",
        "for i in range(n_samples):\n",
        "    axs[i].imshow(np.transpose(gen_imgs[i].cpu().numpy(), (1,2,0)))\n",
        "    axs[i].axis('off')\n",
        "plt.suptitle(\"Generated Automobile Images\")\n",
        "plt.show()"
      ]
    },
    {
      "cell_type": "code",
      "execution_count": 23,
      "metadata": {
        "id": "klZJJACFk_nH"
      },
      "outputs": [],
      "source": [
        "# %%\n",
        "# Compute Inception Score (IS) and FID using torchmetrics\n",
        "generator.eval()\n",
        "num_eval_samples = 1000\n",
        "eval_batch = 50\n",
        "gen_imgs_all = []"
      ]
    },
    {
      "cell_type": "code",
      "execution_count": 24,
      "metadata": {
        "id": "GwaAHGvRlCb8"
      },
      "outputs": [],
      "source": [
        "for _ in range(num_eval_samples // eval_batch):\n",
        "    noise = torch.randn(eval_batch, latent_dim, device=device)\n",
        "    # generate images for the 'automobile' class (label 1)\n",
        "    labels = torch.full((eval_batch,), 1, dtype=torch.long, device=device)\n",
        "    gen_batch = generator(noise, labels)\n",
        "    # Denormalize to [0,1]\n",
        "    gen_batch = (gen_batch + 1) / 2.0\n",
        "    gen_imgs_all.append(gen_batch)\n",
        "gen_imgs_all = torch.cat(gen_imgs_all, dim=0)"
      ]
    },
    {
      "cell_type": "code",
      "execution_count": 25,
      "metadata": {
        "colab": {
          "base_uri": "https://localhost:8080/"
        },
        "id": "T_sLb3p5lDbN",
        "outputId": "4f8e098d-47e2-43cb-e8b3-d3570fb68bd2"
      },
      "outputs": [
        {
          "output_type": "stream",
          "name": "stderr",
          "text": [
            "/usr/local/lib/python3.11/dist-packages/torchmetrics/utilities/prints.py:43: UserWarning: Metric `InceptionScore` will save all extracted features in buffer. For large datasets this may lead to large memory footprint.\n",
            "  warnings.warn(*args, **kwargs)\n",
            "Downloading: \"https://github.com/toshas/torch-fidelity/releases/download/v0.2.0/weights-inception-2015-12-05-6726825d.pth\" to /root/.cache/torch/hub/checkpoints/weights-inception-2015-12-05-6726825d.pth\n",
            "100%|██████████| 91.2M/91.2M [00:00<00:00, 182MB/s]\n"
          ]
        }
      ],
      "source": [
        "num_eval_samples = 200\n",
        "eval_batch = 50\n",
        "gen_imgs_all = []\n",
        "\n",
        "for _ in range(num_eval_samples // eval_batch):\n",
        "    noise = torch.randn(eval_batch, latent_dim, device=device)\n",
        "    # Provide the label for each sample; here we're using label '1' for automobiles\n",
        "    labels = torch.full((eval_batch,), 1, dtype=torch.long, device=device)\n",
        "    gen_batch = generator(noise, labels)\n",
        "    gen_batch = (gen_batch + 1) / 2.0  # Denormalize from [-1,1] to [0,1]\n",
        "    # Convert to uint8 as required by the metric\n",
        "    gen_batch_uint8 = (gen_batch * 255).clamp(0, 255).to(torch.uint8)\n",
        "    gen_imgs_all.append(gen_batch_uint8)\n",
        "\n",
        "gen_imgs_all = torch.cat(gen_imgs_all, dim=0)\n",
        "\n",
        "inception_metric = InceptionScore()\n",
        "inception_metric.update(gen_imgs_all.cpu())\n",
        "inception_score = inception_metric.compute()"
      ]
    },
    {
      "cell_type": "code",
      "execution_count": 26,
      "metadata": {
        "colab": {
          "base_uri": "https://localhost:8080/"
        },
        "id": "eAnQqSS3aiZb",
        "outputId": "7adc1f31-2ed6-4463-ab64-f8e63a10b773"
      },
      "outputs": [
        {
          "output_type": "stream",
          "name": "stdout",
          "text": [
            "Inception Score (IS): 2.7391 ± 0.3634\n"
          ]
        }
      ],
      "source": [
        "inception_score = inception_metric.compute()\n",
        "score_mean, score_std = inception_score\n",
        "print(f\"Inception Score (IS): {score_mean.item():.4f} ± {score_std.item():.4f}\")"
      ]
    },
    {
      "cell_type": "code",
      "execution_count": 27,
      "metadata": {
        "id": "tIqjrADUlGv_"
      },
      "outputs": [],
      "source": [
        "# For FID, we need real images from the same class.\n",
        "real_imgs = []\n",
        "for img, label in train_dataset:\n",
        "    if label == 1:  # 'automobile'\n",
        "        real_imgs.append(img.unsqueeze(0))\n",
        "real_imgs = torch.cat(real_imgs, dim=0)\n",
        "# Denormalize: our transform normalized images to [-1,1], so re-scale to [0,1]\n",
        "real_imgs = (real_imgs + 1) / 2.0\n",
        "# If too many, sample a subset (e.g., num_eval_samples images)\n",
        "if real_imgs.size(0) > num_eval_samples:\n",
        "    idx = np.random.choice(real_imgs.size(0), num_eval_samples, replace=False)\n",
        "    real_imgs = real_imgs[idx]\n",
        "real_imgs = real_imgs.to(device)\n",
        "\n",
        "# Convert real_imgs to uint8 as expected by the metric\n",
        "real_imgs_uint8 = (real_imgs * 255).clamp(0, 255).to(torch.uint8)\n",
        "\n",
        "fid_metric = FrechetInceptionDistance().to(device)\n"
      ]
    },
    {
      "cell_type": "code",
      "execution_count": 28,
      "metadata": {
        "id": "pHtiECublKTN"
      },
      "outputs": [],
      "source": [
        "# Update with real images\n",
        "fid_metric.update(real_imgs_uint8, real=True)"
      ]
    },
    {
      "cell_type": "code",
      "execution_count": 29,
      "metadata": {
        "colab": {
          "base_uri": "https://localhost:8080/"
        },
        "id": "1mOjkI3nlPdo",
        "outputId": "e198e160-c925-4cb3-9a3a-8caf007d3c75"
      },
      "outputs": [
        {
          "output_type": "stream",
          "name": "stdout",
          "text": [
            "Fréchet Inception Distance (FID): 210.5218\n"
          ]
        }
      ],
      "source": [
        "# Update with generated images\n",
        "fid_metric.update(gen_imgs_all, real=False)\n",
        "fid_score = fid_metric.compute()\n",
        "print(f\"Fréchet Inception Distance (FID): {fid_score.item():.4f}\")"
      ]
    }
  ],
  "metadata": {
    "colab": {
      "provenance": []
    },
    "kernelspec": {
      "display_name": "Python 3",
      "name": "python3"
    },
    "language_info": {
      "name": "python"
    }
  },
  "nbformat": 4,
  "nbformat_minor": 0
}