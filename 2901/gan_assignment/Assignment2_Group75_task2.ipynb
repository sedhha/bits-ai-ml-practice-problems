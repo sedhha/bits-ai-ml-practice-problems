{
  "nbformat": 4,
  "nbformat_minor": 0,
  "metadata": {
    "colab": {
      "provenance": []
    },
    "kernelspec": {
      "name": "python3",
      "display_name": "Python 3"
    },
    "language_info": {
      "name": "python"
    }
  },
  "cells": [
    {
      "cell_type": "markdown",
      "source": [
        "## Group ID\n",
        "ADL Group 75\n",
        "\n",
        "\n",
        "## Group Members\n",
        "1. Ravindra Kumar Tholiya - 2023AA05124\n",
        "2. Jahnavi Gali - 2023AA05684\n",
        "3. Shivam Sahil - 2023AA05663\n",
        "4. Chakshu - 2023aa05280"
      ],
      "metadata": {
        "id": "hFqaJ5FFmrNc"
      }
    },
    {
      "cell_type": "markdown",
      "source": [
        "# Task 2: Task 2: Implement and train a SNGAN with CIFAR10 dataset. Generate and display 10 new images. Report IS and FID scores.\n",
        "\n"
      ],
      "metadata": {
        "id": "9ygo3ddmmxJx"
      }
    },
    {
      "cell_type": "code",
      "execution_count": 1,
      "metadata": {
        "id": "umjjv-2FmnZ6"
      },
      "outputs": [],
      "source": [
        "import os\n",
        "import numpy as np\n",
        "import matplotlib.pyplot as plt\n",
        "from tqdm import tqdm\n",
        "\n",
        "import torch\n",
        "import torch.nn as nn\n",
        "import torch.optim as optim\n",
        "import torch.autograd as autograd\n",
        "from torch.utils.data import DataLoader\n",
        "import torchvision\n",
        "import torchvision.transforms as transforms\n",
        "from tqdm import tqdm\n",
        "from torch.nn.utils import spectral_norm"
      ]
    },
    {
      "cell_type": "code",
      "source": [
        "!pip install torchmetrics\n",
        "!pip install torch-fidelity\n",
        "!pip install torchmetrics[image]"
      ],
      "metadata": {
        "id": "cC2BxCbzm7ay"
      },
      "execution_count": null,
      "outputs": []
    },
    {
      "cell_type": "code",
      "source": [
        "from torchmetrics.image.inception import InceptionScore\n",
        "from torchmetrics.image.fid import FrechetInceptionDistance"
      ],
      "metadata": {
        "id": "ydtddboIm9GJ"
      },
      "execution_count": 3,
      "outputs": []
    },
    {
      "cell_type": "code",
      "source": [
        "device = torch.device(\"cuda\" if torch.cuda.is_available() else \"cpu\")\n",
        "print(\"Using device:\", device)"
      ],
      "metadata": {
        "colab": {
          "base_uri": "https://localhost:8080/"
        },
        "id": "rmjBJ_9bm-hW",
        "outputId": "fe1ed68c-6415-41d7-bdc7-19f1fd8e80b5"
      },
      "execution_count": 4,
      "outputs": [
        {
          "output_type": "stream",
          "name": "stdout",
          "text": [
            "Using device: cpu\n"
          ]
        }
      ]
    },
    {
      "cell_type": "code",
      "source": [
        "# Config part -> We would need to tweak this block for different environments\n",
        "from google.colab import drive\n",
        "drive.mount('/content/drive', force_remount=True)\n",
        "checkpoint_dir = \"drive/MyDrive/temp_db/2901/checkpoints\""
      ],
      "metadata": {
        "colab": {
          "base_uri": "https://localhost:8080/"
        },
        "id": "2vx_kIlZnA5r",
        "outputId": "10fe01f2-8445-4c7e-c947-1337575df498"
      },
      "execution_count": 5,
      "outputs": [
        {
          "output_type": "stream",
          "name": "stdout",
          "text": [
            "Mounted at /content/drive\n"
          ]
        }
      ]
    },
    {
      "cell_type": "markdown",
      "source": [
        "## Actual Implementation"
      ],
      "metadata": {
        "id": "FRe5f5_InEF0"
      }
    },
    {
      "cell_type": "code",
      "source": [
        "# Hyperparameters\n",
        "batch_size = 64\n",
        "image_size = 32\n",
        "channels = 3\n",
        "latent_dim = 128  # a typical choice for SNGAN\n",
        "num_epochs = 13   # adjust as needed\n",
        "lr = 2e-4         # often higher for GANs\n",
        "beta1 = 0.0\n",
        "beta2 = 0.9"
      ],
      "metadata": {
        "id": "oEVOM2NXnGI1"
      },
      "execution_count": 6,
      "outputs": []
    },
    {
      "cell_type": "code",
      "source": [
        "# Data loading and preprocessing\n",
        "transform = transforms.Compose([\n",
        "    transforms.Resize(image_size),\n",
        "    transforms.ToTensor(),\n",
        "    transforms.Normalize([0.5]*3, [0.5]*3)\n",
        "])"
      ],
      "metadata": {
        "id": "3cVf4wiDnKdh"
      },
      "execution_count": 7,
      "outputs": []
    },
    {
      "cell_type": "code",
      "source": [
        "train_dataset = torchvision.datasets.CIFAR10(root='./data', train=True, download=True, transform=transform)\n",
        "train_loader = DataLoader(train_dataset, batch_size=batch_size, shuffle=True, num_workers=2)"
      ],
      "metadata": {
        "id": "4LPMppX9n9OC",
        "colab": {
          "base_uri": "https://localhost:8080/"
        },
        "outputId": "0c2af2d9-bb2a-4644-dc48-cb854658b2f0"
      },
      "execution_count": 8,
      "outputs": [
        {
          "output_type": "stream",
          "name": "stdout",
          "text": [
            "Downloading https://www.cs.toronto.edu/~kriz/cifar-10-python.tar.gz to ./data/cifar-10-python.tar.gz\n"
          ]
        },
        {
          "output_type": "stream",
          "name": "stderr",
          "text": [
            "100%|██████████| 170M/170M [00:03<00:00, 52.2MB/s]\n"
          ]
        },
        {
          "output_type": "stream",
          "name": "stdout",
          "text": [
            "Extracting ./data/cifar-10-python.tar.gz to ./data\n"
          ]
        }
      ]
    },
    {
      "cell_type": "code",
      "source": [
        "# Generator network (DCGAN-style)\n",
        "class Generator(nn.Module):\n",
        "    def __init__(self, latent_dim, channels, feature_map_size=64):\n",
        "        super(Generator, self).__init__()\n",
        "        self.net = nn.Sequential(\n",
        "            # Input: latent_dim x 1 x 1\n",
        "            nn.ConvTranspose2d(latent_dim, feature_map_size * 8, 4, 1, 0, bias=False),\n",
        "            nn.BatchNorm2d(feature_map_size * 8),\n",
        "            nn.ReLU(True),\n",
        "            # State: (feature_map_size*8) x 4 x 4\n",
        "            nn.ConvTranspose2d(feature_map_size * 8, feature_map_size * 4, 4, 2, 1, bias=False),\n",
        "            nn.BatchNorm2d(feature_map_size * 4),\n",
        "            nn.ReLU(True),\n",
        "            # State: (feature_map_size*4) x 8 x 8\n",
        "            nn.ConvTranspose2d(feature_map_size * 4, feature_map_size * 2, 4, 2, 1, bias=False),\n",
        "            nn.BatchNorm2d(feature_map_size * 2),\n",
        "            nn.ReLU(True),\n",
        "            # State: (feature_map_size*2) x 16 x 16\n",
        "            nn.ConvTranspose2d(feature_map_size * 2, channels, 4, 2, 1, bias=False),\n",
        "            nn.Tanh()\n",
        "            # Output: channels x 32 x 32\n",
        "        )\n",
        "\n",
        "    def forward(self, z):\n",
        "        # Reshape noise vector to (batch_size, latent_dim, 1, 1)\n",
        "        z = z.view(z.size(0), latent_dim, 1, 1)\n",
        "        img = self.net(z)\n",
        "        return img"
      ],
      "metadata": {
        "id": "emwpThbNnMSn"
      },
      "execution_count": 9,
      "outputs": []
    },
    {
      "cell_type": "code",
      "source": [
        "# Discriminator network with Spectral Normalization\n",
        "class Discriminator(nn.Module):\n",
        "    def __init__(self, channels, feature_map_size=64):\n",
        "        super(Discriminator, self).__init__()\n",
        "        self.net = nn.Sequential(\n",
        "            # Input: channels x 32 x 32\n",
        "            spectral_norm(nn.Conv2d(channels, feature_map_size, 4, 2, 1, bias=False)),\n",
        "            nn.LeakyReLU(0.2, inplace=True),\n",
        "            # State: feature_map_size x 16 x 16\n",
        "            spectral_norm(nn.Conv2d(feature_map_size, feature_map_size * 2, 4, 2, 1, bias=False)),\n",
        "            nn.LeakyReLU(0.2, inplace=True),\n",
        "            # State: (feature_map_size*2) x 8 x 8\n",
        "            spectral_norm(nn.Conv2d(feature_map_size * 2, feature_map_size * 4, 4, 2, 1, bias=False)),\n",
        "            nn.LeakyReLU(0.2, inplace=True),\n",
        "            # State: (feature_map_size*4) x 4 x 4\n",
        "            spectral_norm(nn.Conv2d(feature_map_size * 4, 1, 4, 1, 0, bias=False))\n",
        "            # Output: 1 x 1 x 1\n",
        "        )\n",
        "\n",
        "    def forward(self, img):\n",
        "        validity = self.net(img)\n",
        "        return validity.view(-1)"
      ],
      "metadata": {
        "id": "dTAq-JuRnOgo"
      },
      "execution_count": 10,
      "outputs": []
    },
    {
      "cell_type": "code",
      "source": [
        "# Initialize networks and optimizers\n",
        "generator = Generator(latent_dim, channels).to(device)\n",
        "discriminator = Discriminator(channels).to(device)\n",
        "\n",
        "optimizer_G = optim.Adam(generator.parameters(), lr=lr, betas=(beta1, beta2))\n",
        "optimizer_D = optim.Adam(discriminator.parameters(), lr=lr, betas=(beta1, beta2))"
      ],
      "metadata": {
        "id": "f6PPKuSfnQUG"
      },
      "execution_count": 11,
      "outputs": []
    },
    {
      "cell_type": "code",
      "source": [
        "# Checkpoint loading: only load files with \"adl_assignment_2_sngan\" in their name\n",
        "if not os.path.exists(checkpoint_dir):\n",
        "    os.makedirs(checkpoint_dir)\n",
        "\n",
        "checkpoint_files = [f for f in os.listdir(checkpoint_dir) if f.endswith('.pt') and \"adl_assignment_2_sngan\" in f]\n",
        "\n",
        "def get_epoch_num(filename):\n",
        "        return int(filename.split('epoch_')[1].split('.pt')[0])\n",
        "\n",
        "if checkpoint_files:\n",
        "    latest_checkpoint = sorted(checkpoint_files, key=get_epoch_num)[-1]\n",
        "    checkpoint_path = os.path.join(checkpoint_dir, latest_checkpoint)\n",
        "    print(f\"Loading checkpoint from {checkpoint_path}\")\n",
        "    checkpoint = torch.load(checkpoint_path, map_location=device)\n",
        "    generator.load_state_dict(checkpoint['generator_state_dict'])\n",
        "    discriminator.load_state_dict(checkpoint['discriminator_state_dict'])\n",
        "    optimizer_G.load_state_dict(checkpoint['optimizer_G_state_dict'])\n",
        "    optimizer_D.load_state_dict(checkpoint['optimizer_D_state_dict'])\n",
        "    start_epoch = checkpoint['epoch'] + 1\n",
        "else:\n",
        "    print(\"No checkpoint found. Starting training from scratch.\")\n",
        "    start_epoch = 0"
      ],
      "metadata": {
        "colab": {
          "base_uri": "https://localhost:8080/"
        },
        "id": "GoCuZdlHnalg",
        "outputId": "dc7c43b5-b00d-47ee-fed6-076216a9b3f9"
      },
      "execution_count": 12,
      "outputs": [
        {
          "output_type": "stream",
          "name": "stdout",
          "text": [
            "Loading checkpoint from drive/MyDrive/temp_db/2901/checkpoints/adl_assignment_2_sngan_checkpoint_epoch_16.pt\n"
          ]
        },
        {
          "output_type": "stream",
          "name": "stderr",
          "text": [
            "<ipython-input-12-753340eb035d>:14: FutureWarning: You are using `torch.load` with `weights_only=False` (the current default value), which uses the default pickle module implicitly. It is possible to construct malicious pickle data which will execute arbitrary code during unpickling (See https://github.com/pytorch/pytorch/blob/main/SECURITY.md#untrusted-models for more details). In a future release, the default value for `weights_only` will be flipped to `True`. This limits the functions that could be executed during unpickling. Arbitrary objects will no longer be allowed to be loaded via this mode unless they are explicitly allowlisted by the user via `torch.serialization.add_safe_globals`. We recommend you start setting `weights_only=True` for any use case where you don't have full control of the loaded file. Please open an issue on GitHub for any issues related to this experimental feature.\n",
            "  checkpoint = torch.load(checkpoint_path, map_location=device)\n"
          ]
        }
      ]
    },
    {
      "cell_type": "code",
      "source": [
        "# Training loop with tqdm progress bar\n",
        "print(\"Starting Training...\")\n",
        "for epoch in range(start_epoch, num_epochs):\n",
        "    epoch_g_loss = 0.0\n",
        "    epoch_d_loss = 0.0\n",
        "    progress_bar = tqdm(train_loader, desc=f\"Epoch {epoch+1}/{num_epochs}\", leave=False)\n",
        "\n",
        "    for i, (imgs, _) in enumerate(progress_bar):\n",
        "        real_imgs = imgs.to(device)\n",
        "        cur_batch = real_imgs.size(0)\n",
        "\n",
        "        # --- Train Discriminator ---\n",
        "        optimizer_D.zero_grad()\n",
        "        # Loss on real images\n",
        "        real_validity = discriminator(real_imgs)\n",
        "        d_real_loss = -torch.mean(real_validity)\n",
        "        # Loss on fake images\n",
        "        noise = torch.randn(cur_batch, latent_dim, device=device)\n",
        "        fake_imgs = generator(noise)\n",
        "        fake_validity = discriminator(fake_imgs.detach())\n",
        "        d_fake_loss = torch.mean(fake_validity)\n",
        "        d_loss = d_real_loss + d_fake_loss\n",
        "        d_loss.backward()\n",
        "        optimizer_D.step()\n",
        "\n",
        "        epoch_d_loss += d_loss.item()\n",
        "\n",
        "        # --- Train Generator ---\n",
        "        optimizer_G.zero_grad()\n",
        "        noise = torch.randn(cur_batch, latent_dim, device=device)\n",
        "        fake_imgs = generator(noise)\n",
        "        g_loss = -torch.mean(discriminator(fake_imgs))\n",
        "        g_loss.backward()\n",
        "        optimizer_G.step()\n",
        "\n",
        "        epoch_g_loss += g_loss.item()\n",
        "\n",
        "        progress_bar.set_postfix({\n",
        "            \"D_loss\": f\"{d_loss.item():.4f}\",\n",
        "            \"G_loss\": f\"{g_loss.item():.4f}\"\n",
        "        })\n",
        "\n",
        "    # Save checkpoint after every epoch\n",
        "    checkpoint = {\n",
        "        'epoch': epoch,\n",
        "        'generator_state_dict': generator.state_dict(),\n",
        "        'discriminator_state_dict': discriminator.state_dict(),\n",
        "        'optimizer_G_state_dict': optimizer_G.state_dict(),\n",
        "        'optimizer_D_state_dict': optimizer_D.state_dict()\n",
        "    }\n",
        "    checkpoint_path = os.path.join(checkpoint_dir, f'adl_assignment_2_sngan_checkpoint_epoch_{epoch}.pt')\n",
        "    torch.save(checkpoint, checkpoint_path)\n",
        "    print(f\"\\nEpoch [{epoch+1}/{num_epochs}] - Checkpoint saved at {checkpoint_path}\")\n",
        "    print(f\"Epoch [{epoch+1}/{num_epochs}] Avg Loss D: {epoch_d_loss/len(train_loader):.4f}, Avg Loss G: {epoch_g_loss/len(train_loader):.4f}\")"
      ],
      "metadata": {
        "colab": {
          "base_uri": "https://localhost:8080/"
        },
        "id": "tbWN_ypinv9w",
        "outputId": "36f1ddd8-065d-45b9-c67a-9d6e99ea0927"
      },
      "execution_count": 13,
      "outputs": [
        {
          "output_type": "stream",
          "name": "stdout",
          "text": [
            "Starting Training...\n"
          ]
        }
      ]
    },
    {
      "cell_type": "code",
      "source": [
        "# Generate and display 10 new images\n",
        "generator.eval()\n",
        "n_samples = 10\n",
        "with torch.no_grad():\n",
        "    noise = torch.randn(n_samples, latent_dim, device=device)\n",
        "    gen_imgs = generator(noise)\n",
        "    gen_imgs = (gen_imgs + 1) / 2.0  # Denormalize from [-1,1] to [0,1]\n",
        "\n",
        "fig, axs = plt.subplots(1, n_samples, figsize=(15,2))\n",
        "for i in range(n_samples):\n",
        "    axs[i].imshow(np.transpose(gen_imgs[i].cpu().numpy(), (1,2,0)))\n",
        "    axs[i].axis('off')\n",
        "plt.suptitle(\"Generated Images from SNGAN\")\n",
        "plt.show()"
      ],
      "metadata": {
        "id": "ZgBm7MvcoJkN",
        "colab": {
          "base_uri": "https://localhost:8080/",
          "height": 183
        },
        "outputId": "0bc79003-53e2-408e-adc4-b26ca09d629f"
      },
      "execution_count": 14,
      "outputs": [
        {
          "output_type": "display_data",
          "data": {
            "text/plain": [
              "<Figure size 1500x200 with 10 Axes>"
            ],
            "image/png": "[encoded data removed]"
          },
          "metadata": {}
        }
      ]
    },
    {
      "cell_type": "code",
      "source": [
        "# Compute Inception Score (IS) and Fréchet Inception Distance (FID)\n",
        "num_eval_samples = 1000\n",
        "eval_batch = 50\n",
        "gen_imgs_all = []\n",
        "for _ in range(num_eval_samples // eval_batch):\n",
        "    noise = torch.randn(eval_batch, latent_dim, device=device)\n",
        "    gen_batch = generator(noise)\n",
        "    gen_batch = (gen_batch + 1) / 2.0\n",
        "    gen_imgs_all.append(gen_batch)\n",
        "gen_imgs_all = torch.cat(gen_imgs_all, dim=0)"
      ],
      "metadata": {
        "id": "RrJA6y5KoKV1"
      },
      "execution_count": 15,
      "outputs": []
    },
    {
      "cell_type": "code",
      "source": [
        "# Compute Inception Score\n",
        "num_eval_samples = 200  # Reduced from 1000 to save memory\n",
        "batch_size = 50\n",
        "inception_metric = InceptionScore()  # On CPU\n",
        "\n",
        "# Process in smaller batches\n",
        "for i in range(0, num_eval_samples, batch_size):\n",
        "    # Generate only one batch at a time\n",
        "    current_batch_size = min(batch_size, num_eval_samples - i)\n",
        "    noise = torch.randn(current_batch_size, latent_dim, device=device)\n",
        "    with torch.no_grad():\n",
        "        gen_batch = generator(noise)\n",
        "        gen_batch = (gen_batch + 1) / 2.0  # Denormalize from [-1,1] to [0,1]\n",
        "        # Convert to uint8 as required by the metric\n",
        "        gen_batch_uint8 = (gen_batch * 255).clamp(0, 255).to(torch.uint8)\n",
        "        # Move to CPU immediately to free GPU memory\n",
        "        gen_batch_uint8 = gen_batch_uint8.cpu()\n",
        "        # Update metric with this batch only\n",
        "        inception_metric.update(gen_batch_uint8)\n",
        "\n",
        "\n",
        "# Compute score after all batches are processed\n",
        "inception_score = inception_metric.compute()\n",
        "print(f\"Inception Score (IS): {inception_score[0].item():.4f} ± {inception_score[1].item():.4f}\")"
      ],
      "metadata": {
        "id": "fpCECUqyoMne",
        "colab": {
          "base_uri": "https://localhost:8080/"
        },
        "outputId": "54f0afd0-9297-43bf-fd0f-66ddc3bd6a61"
      },
      "execution_count": 17,
      "outputs": [
        {
          "output_type": "stream",
          "name": "stdout",
          "text": [
            "Inception Score (IS): 3.1989 ± 0.4387\n"
          ]
        }
      ]
    },
    {
      "cell_type": "code",
      "source": [
        "# Prepare real images for FID: sample a subset of real CIFAR10 images\n",
        "num_eval_samples = 200\n",
        "batch_size = 50\n",
        "fid_metric = FrechetInceptionDistance()\n",
        "\n",
        "# First, process real images in batches\n",
        "# Instead of loading all images at once\n",
        "real_batch_indices = np.random.choice(len(train_dataset), num_eval_samples, replace=False)\n",
        "real_dataloader = DataLoader(\n",
        "    torch.utils.data.Subset(train_dataset, real_batch_indices),\n",
        "    batch_size=batch_size,\n",
        "    shuffle=False\n",
        ")\n",
        "\n",
        "# Process real images in batches\n",
        "for batch_idx, (real_batch, _) in enumerate(real_dataloader):\n",
        "    real_batch = (real_batch + 1) / 2.0  # Denormalize from [-1,1] to [0,1]\n",
        "    # Convert to uint8 as required by the metric\n",
        "    real_batch_uint8 = (real_batch * 255).clamp(0, 255).to(torch.uint8).cpu()\n",
        "    # Update metric with this batch only\n",
        "    fid_metric.update(real_batch_uint8, real=True)\n",
        "\n",
        "# Now process generated images in batches\n",
        "for i in range(0, num_eval_samples, batch_size):\n",
        "    current_batch_size = min(batch_size, num_eval_samples - i)\n",
        "    noise = torch.randn(current_batch_size, latent_dim, device=device)\n",
        "    with torch.no_grad():\n",
        "        gen_batch = generator(noise)\n",
        "        gen_batch = (gen_batch + 1) / 2.0  # Denormalize from [-1,1] to [0,1]\n",
        "        # Convert to uint8 as required by the metric\n",
        "        gen_batch_uint8 = (gen_batch * 255).clamp(0, 255).to(torch.uint8).cpu()\n",
        "        # Update metric with this batch only\n",
        "        fid_metric.update(gen_batch_uint8, real=False)\n",
        "\n",
        "fid_score = fid_metric.compute()\n",
        "print(f\"Fréchet Inception Distance (FID): {fid_score.item():.4f}\")"
      ],
      "metadata": {
        "id": "T0QfG_9WoOjM",
        "colab": {
          "base_uri": "https://localhost:8080/"
        },
        "outputId": "55c0197b-4d87-4c73-d380-285f6fabc3c0"
      },
      "execution_count": 18,
      "outputs": [
        {
          "output_type": "stream",
          "name": "stdout",
          "text": [
            "Fréchet Inception Distance (FID): 184.7956\n"
          ]
        }
      ]
    }
  ]
}