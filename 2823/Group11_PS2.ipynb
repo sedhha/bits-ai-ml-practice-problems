{
 "cells": [
  {
   "cell_type": "markdown",
   "metadata": {
    "id": "QTa-IOoTxbaD"
   },
   "source": [
    "\n",
    "### Group-11\n",
    "\n",
    "**ML System Optimization - Problem Statement 2**\n",
    "    \n",
    "\n",
    "\n",
    "<table border=\"1\" style=\"font-size: 16px;\">    \n",
    "    <tr>\n",
    "        <th>Name</th>\n",
    "        <th>ID</th>\n",
    "        <th>Email-ID</th>\n",
    "        <th>Contribution</th>\n",
    "    </tr>\n",
    "    <tr>\n",
    "        <td>GORLE PUSHPALATHA</td>\n",
    "        <td>2022AA05415</td>\n",
    "        <td>2022AA05415@wilp.bits-pilani.ac.in</td>\n",
    "        <td>100%</td>\n",
    "    </tr>\n",
    "    <tr>\n",
    "        <td>SHIVAM SAHIL</td>\n",
    "        <td>2023AA0663</td>\n",
    "        <td>2023AA0663@wilp.bits-pilani.ac.in</td>\n",
    "        <td>100%</td>\n",
    "    </tr>\n",
    "    <tr>\n",
    "        <td>SANKALP KUMAR YADAV</td>\n",
    "        <td>2023AB05001</td>\n",
    "        <td>2023AB05001@wilp.bits-pilani.ac.inn</td>\n",
    "        <td>100%</td>\n",
    "    </tr>\n",
    "    <tr>\n",
    "        <td>N NEHA</td>\n",
    "        <td>2023AA05692</td>\n",
    "        <td>2023AA05692@wilp.bits-pilani.ac.in</td>\n",
    "        <td>100%</td>\n",
    "    </tr>\n",
    "</table>\n",
    "\n"
   ]
  },
  {
   "cell_type": "markdown",
   "metadata": {
    "id": "G7umMs4Lz2HG"
   },
   "source": [
    "**Dataset Used** - [Sci-kit Learn California Housing](https://scikit-learn.org/stable/modules/generated/sklearn.datasets.fetch_california_housing.html)"
   ]
  },
  {
   "cell_type": "code",
   "execution_count": 6,
   "metadata": {},
   "outputs": [],
   "source": [
    "# Import the required libraries\n",
    "import numpy as np\n",
    "import pandas as pd\n",
    "from sklearn.model_selection import train_test_split\n",
    "from sklearn.preprocessing import StandardScaler\n",
    "import matplotlib.pyplot as plt\n",
    "from sklearn.datasets import fetch_california_housing\n"
   ]
  },
  {
   "cell_type": "code",
   "execution_count": 7,
   "metadata": {},
   "outputs": [],
   "source": [
    "# Load the California housing dataset\n",
    "housing = fetch_california_housing()\n",
    "# Create a DataFrame from the dataset\n",
    "df = pd.DataFrame(data=housing.data, columns=housing.feature_names)\n",
    "\n",
    "# Load the dataset from Local File\n",
    "# df = pd.read_csv(r'housing_data.csv') [We tried by loading dataset from local file first but the other method seems better]\n",
    "# Separate the features and target\n",
    "# X = df.drop('Target', axis=1).values\n",
    "# y = df['Target'].values\n",
    "\n",
    "df['Target'] = housing.target\n",
    "\n",
    "# Separate the features and target\n",
    "X = df.drop('Target', axis=1).values\n",
    "y = df['Target'].values"
   ]
  },
  {
   "cell_type": "code",
   "execution_count": 8,
   "metadata": {},
   "outputs": [],
   "source": [
    "# Split the data into training and testing sets\n",
    "X_train, X_test, y_train, y_test = train_test_split(X, y, test_size=0.2, random_state=42)\n",
    "\n",
    "# Standardize the data\n",
    "'''\n",
    "    we ensure that each feature contributes equally to the distance calculations during\n",
    "    the training of models, thereby improving their performance and stability.\n",
    "'''\n",
    "scaler = StandardScaler()\n",
    "X_train = scaler.fit_transform(X_train)\n",
    "X_test = scaler.transform(X_test)\n",
    "\n",
    "# Reshape y for consistency\n",
    "y_train = y_train.reshape(-1, 1)\n",
    "y_test = y_test.reshape(-1, 1)"
   ]
  },
  {
   "cell_type": "code",
   "execution_count": 10,
   "metadata": {},
   "outputs": [],
   "source": [
    "# Multi Layer Perceptron Implementation\n",
    "\n",
    "class MLP:\n",
    "    def __init__(self, input_size, hidden_size, output_size, learning_rate=0.01):\n",
    "        self.input_size = input_size\n",
    "        self.hidden_size = hidden_size\n",
    "        self.output_size = output_size\n",
    "        self.learning_rate = learning_rate\n",
    "\n",
    "        # Initialize weights and biases\n",
    "        self.W1 = np.random.randn(input_size, hidden_size) * 0.01\n",
    "        self.b1 = np.zeros((1, hidden_size))\n",
    "        self.W2 = np.random.randn(hidden_size, output_size) * 0.01\n",
    "        self.b2 = np.zeros((1, output_size))\n",
    "\n",
    "    def relu(self, Z):\n",
    "        return np.maximum(0, Z)\n",
    "\n",
    "    def relu_derivative(self, Z):\n",
    "        return Z > 0\n",
    "\n",
    "    def forward(self, X):\n",
    "        self.Z1 = np.dot(X, self.W1) + self.b1\n",
    "        self.A1 = self.relu(self.Z1)\n",
    "        self.Z2 = np.dot(self.A1, self.W2) + self.b2\n",
    "        self.A2 = self.Z2  # Linear activation for regression\n",
    "        return self.A2\n",
    "\n",
    "    def backward(self, X, y):\n",
    "        m = X.shape[0]\n",
    "        dZ2 = self.A2 - y\n",
    "        dW2 = np.dot(self.A1.T, dZ2) / m\n",
    "        db2 = np.sum(dZ2, axis=0, keepdims=True) / m\n",
    "        dA1 = np.dot(dZ2, self.W2.T)\n",
    "        dZ1 = dA1 * self.relu_derivative(self.A1)\n",
    "        dW1 = np.dot(X.T, dZ1) / m\n",
    "        db1 = np.sum(dZ1, axis=0, keepdims=True) / m\n",
    "\n",
    "        # Update weights and biases\n",
    "        self.W1 -= self.learning_rate * dW1\n",
    "        self.b1 -= self.learning_rate * db1\n",
    "        self.W2 -= self.learning_rate * dW2\n",
    "        self.b2 -= self.learning_rate * db2\n",
    "\n",
    "    def compute_loss(self, y_true, y_pred):\n",
    "        m = y_true.shape[0]\n",
    "        loss = np.mean((y_true - y_pred) ** 2)\n",
    "        return loss\n",
    "\n",
    "\n",
    "def train(model, X_train, y_train, epochs=1000, batch_size=32):\n",
    "    history = []\n",
    "    for epoch in range(epochs):\n",
    "        permutation = np.random.permutation(X_train.shape[0])\n",
    "        X_train_shuffled = X_train[permutation]\n",
    "        y_train_shuffled = y_train[permutation]\n",
    "\n",
    "        for i in range(0, X_train.shape[0], batch_size):\n",
    "            X_batch = X_train_shuffled[i:i + batch_size]\n",
    "            y_batch = y_train_shuffled[i:i + batch_size]\n",
    "\n",
    "            # Forward and backward propagation\n",
    "            y_pred = model.forward(X_batch)\n",
    "            model.backward(X_batch, y_batch)\n",
    "\n",
    "        # Compute and store the loss\n",
    "        y_pred_full = model.forward(X_train)\n",
    "        loss = model.compute_loss(y_train, y_pred_full)\n",
    "        history.append(loss)\n",
    "\n",
    "        if epoch % 100 == 0:\n",
    "            print(f'Epoch {epoch}, Loss: {loss}')\n",
    "\n",
    "    return history\n",
    "\n",
    "# Helper function for Model Evaluation\n",
    "def evaluate(model, X_test, y_test):\n",
    "    y_pred = model.forward(X_test)\n",
    "    mse = np.mean((y_test - y_pred) ** 2)\n",
    "    return mse"
   ]
  },
  {
   "cell_type": "code",
   "execution_count": 11,
   "metadata": {},
   "outputs": [
    {
     "name": "stdout",
     "output_type": "stream",
     "text": [
      "Epoch 0, Loss: 0.8248496035977547\n",
      "Epoch 100, Loss: 0.3620423409516167\n",
      "Epoch 200, Loss: 0.3473772332353146\n",
      "Epoch 300, Loss: 0.3708290731019825\n",
      "Epoch 400, Loss: 0.32375686179813523\n",
      "Epoch 500, Loss: 0.3201543695118343\n",
      "Epoch 600, Loss: 0.3192456504291833\n",
      "Epoch 700, Loss: 0.32037966806798834\n",
      "Epoch 800, Loss: 0.3212785538277933\n",
      "Epoch 900, Loss: 0.31679449405069837\n",
      "Test Mean Squared Error: 0.33736649701624477\n"
     ]
    },
    {
     "data": {
      "image/png": "[encoded data removed]",
      "text/plain": [
       "<Figure size 640x480 with 1 Axes>"
      ]
     },
     "metadata": {},
     "output_type": "display_data"
    }
   ],
   "source": [
    "# Model configuration\n",
    "input_size = X_train.shape[1]\n",
    "hidden_size = 10\n",
    "output_size = y_train.shape[1]\n",
    "learning_rate = 0.01\n",
    "epochs = 1000\n",
    "batch_size = 32\n",
    "\n",
    "# Initialize the model\n",
    "mlp = MLP(input_size, hidden_size, output_size, learning_rate)\n",
    "\n",
    "# Train the model\n",
    "loss_history = train(mlp, X_train, y_train, epochs, batch_size)\n",
    "\n",
    "# Evaluate the model\n",
    "mse = evaluate(mlp, X_test, y_test)\n",
    "print(f'Test Mean Squared Error: {mse}')\n",
    "\n",
    "# Plot the loss curve\n",
    "plt.plot(loss_history)\n",
    "plt.xlabel('Epoch')\n",
    "plt.ylabel('Loss')\n",
    "plt.title('Loss Curve')\n",
    "plt.show()"
   ]
  }
 ],
 "metadata": {
  "colab": {
   "provenance": []
  },
  "kernelspec": {
   "display_name": "venv",
   "language": "python",
   "name": "python3"
  },
  "language_info": {
   "codemirror_mode": {
    "name": "ipython",
    "version": 3
   },
   "file_extension": ".py",
   "mimetype": "text/x-python",
   "name": "python",
   "nbconvert_exporter": "python",
   "pygments_lexer": "ipython3",
   "version": "3.12.0"
  }
 },
 "nbformat": 4,
 "nbformat_minor": 4
}
